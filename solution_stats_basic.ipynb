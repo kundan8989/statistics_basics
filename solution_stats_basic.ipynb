{
 "cells": [
  {
   "cell_type": "markdown",
   "id": "8f5e3079-2430-4254-9ccf-dbcfe6c76ad6",
   "metadata": {},
   "source": [
    "# Theoretical Questions"
   ]
  },
  {
   "cell_type": "markdown",
   "id": "36087e3d-5087-4a81-be37-4ba09153545a",
   "metadata": {},
   "source": [
    "### 1. What is Statistics, and Why is it Important?\n",
    "Statistics is the science of collecting, analyzing, interpreting, presenting, and organizing data.\n",
    "Importance: It helps in decision-making, identifying trends, validating hypotheses, and making predictions in various fields like business, science, and government."
   ]
  },
  {
   "cell_type": "markdown",
   "id": "7bca0871-0120-4ea7-83d5-5a29fdeb2ce6",
   "metadata": {},
   "source": [
    "### 2 What are the two main types of statistics.\n",
    "Descriptive Statistics: Summarizes or describes the features of a dataset (e.g., mean, median).\n",
    "\n",
    "Inferential Statistics: Makes predictions or inferences about a population based on a sample.\n",
    "\n"
   ]
  },
  {
   "cell_type": "markdown",
   "id": "ea2cf206-9c80-4a98-9769-001cbb49b6bc",
   "metadata": {},
   "source": [
    "### 3. What are Descriptive Statistics?\n",
    "They include measures like mean, median, mode, range, variance, and standard deviation that summarize a dataset."
   ]
  },
  {
   "cell_type": "markdown",
   "id": "808cae47-33a6-4201-9a8c-63fbab1b28c1",
   "metadata": {},
   "source": [
    "### 4. What is Inferential Statistics?\n",
    "It uses sample data to infer or predict population parameters. Methods include hypothesis testing, confidence intervals, and regression."
   ]
  },
  {
   "cell_type": "markdown",
   "id": "5feb37fd-759a-4a2e-8ffd-545d89aba317",
   "metadata": {},
   "source": [
    "### 5. What is Sampling in Statistics?\n",
    "Sampling is the process of selecting a subset of individuals from a population to estimate characteristics of the whole group.\n",
    "\n"
   ]
  },
  {
   "cell_type": "markdown",
   "id": "40ec45c9-d5c8-4675-a04f-fedd6bd0268f",
   "metadata": {},
   "source": [
    "### 6. What are the different types of sampling methods\u001d",
    "\n",
    "Random Sampling: Every individual has an equal chance (e.g., lottery).\n",
    "\n",
    "Stratified Sampling: Population divided into groups, then sampled.\n",
    "\n",
    "Systematic Sampling: Every nth item is selected.\n",
    "\n",
    "Cluster Sampling: Entire clusters are randomly selected.\n",
    "\n",
    "Convenience Sampling: Based on ease of access.\n",
    "\n"
   ]
  },
  {
   "cell_type": "markdown",
   "id": "1065c459-ca47-46d3-b958-6bb122c416b3",
   "metadata": {},
   "source": [
    "### 7. What is the difference between random and non-random sampling\u001d",
    "\n",
    "Random Sampling: Unbiased, represents population accurately.\n",
    "\n",
    "Non-Random Sampling: Biased, may not represent population (e.g., convenience sampling).\n",
    "\n"
   ]
  },
  {
   "cell_type": "markdown",
   "id": "66edb593-cb8f-43d1-a76d-e60c2107287c",
   "metadata": {},
   "source": [
    "### 8 Define and give examples of qualitative and quantitative data5\n",
    "Qualitative (Categorical): Describes qualities or categories (e.g., gender, color).\n",
    "\n",
    "Quantitative (Numerical): Expressed with numbers (e.g., age, height).\n",
    "\n"
   ]
  },
  {
   "cell_type": "markdown",
   "id": "9dcb4f5c-8b53-4c77-a79a-c04883091aee",
   "metadata": {},
   "source": [
    "### 9. What are the different types of data in statistic.\n",
    "Nominal\n",
    "\n",
    "Ordinal\n",
    "\n",
    "Interval\n",
    "\n",
    "Ratio"
   ]
  },
  {
   "cell_type": "markdown",
   "id": "f8ce3197-fce3-4e9d-b1dc-90c2b6cabfeb",
   "metadata": {},
   "source": [
    "### 10. Explain nominal, ordinal, interval, and ratio levels of measurement5\n",
    "Nominal: Categories only (e.g., gender).\n",
    "\n",
    "Ordinal: Ordered categories (e.g., ranks).\n",
    "\n",
    "Interval: Ordered, equal intervals, no true zero (e.g., temperature).\n",
    "\n",
    "Ratio: Ordered, equal intervals, true zero (e.g., weight)."
   ]
  },
  {
   "cell_type": "markdown",
   "id": "c3c933fe-48cc-4dcb-bd15-bbe6f141d6db",
   "metadata": {},
   "source": [
    "### 11. What is Measure of Central Tendency?\n",
    "It identifies the center of a data distribution (mean, median, mode).\n",
    "\n"
   ]
  },
  {
   "cell_type": "markdown",
   "id": "16a8906b-c690-46e3-8b47-3307f5d6611d",
   "metadata": {},
   "source": [
    "### 12. Define Mean, Median, and Mode\n",
    "##### 1. Mean (Arithmetic Average)\n",
    "Definition: The mean is the sum of all the values in a dataset, divided by the number of values. It is often referred to as the average.\n",
    "\n",
    "##### 2. Median\n",
    "Definition: The median is the middle value in a dataset when the values are ordered from smallest to largest. If the number of values is odd, the median is the middle value. If it’s even, the median is the average of the two middle values.\n",
    "\n",
    "##### 3. Mode\n",
    "Definition: The mode is the value that appears most frequently in a dataset. A dataset can hav"
   ]
  },
  {
   "cell_type": "markdown",
   "id": "2e0fdfc4-a54e-48b2-ae26-ee561855e9e0",
   "metadata": {},
   "source": [
    "### 13. What is the significance of the measure of central tendency\n",
    "Measures of central tendency are statistical tools used to describe the center of a dataset. They help summarize a set of data with a single value that represents the entire distribution.\n"
   ]
  },
  {
   "cell_type": "markdown",
   "id": "1cc73c06-4814-41cc-8a22-a153c4b84099",
   "metadata": {},
   "source": [
    "### 14. What is Variance and How is it Calculated?\n",
    "Variance is a statistical measure of the spread or dispersion of a dataset. It tells us how much individual data points differ from the mean (average) of the dataset. In other words, variance quantifies the average squared deviation from the mean.\n",
    "Formula:\n",
    "\n",
    "Variance\n",
    "(\n",
    "𝜎\n",
    "2\n",
    ")\n",
    "=\n",
    "∑\n",
    "(\n",
    "𝑥\n",
    "𝑖\n",
    "−\n",
    "𝜇\n",
    ")\n",
    "2\n",
    "𝑛\n",
    "Variance(σ \n",
    "2\n",
    " )= \n",
    "n\n",
    "∑(x \n",
    "i\n",
    "​\n",
    " −μ) \n",
    "2\n",
    " \n",
    "​\n"
   ]
  },
  {
   "cell_type": "markdown",
   "id": "013c34aa-7e9c-41ac-b0c5-03c8c19ed500",
   "metadata": {},
   "source": [
    "### 15.  What is standard deviation, and why is it important\n",
    "Standard Deviation (SD) is a measure of the spread or dispersion of a dataset. It tells us how much individual data points deviate from the mean (average) of the dataset. The higher the standard deviation, the more spread out the values are from the mean, and the lower the standard deviation, the closer the values are to the mean.\n",
    "##### Importance of Standard Deviation:\n",
    "1.Measures Variability:\n",
    "\n",
    "It gives us an idea of how spread out the data is.\n",
    "\n",
    "If the standard deviation is small, the data points are close to the mean.\n",
    "\n",
    "If the standard deviation is large, the data points are spread out over a wider range.\n",
    "\n",
    "2.Comparison of Datasets:\n",
    "\n",
    "It allows us to compare the variability between different datasets or distributions.\n",
    "\n",
    "For example, two datasets may have the same mean, but the one with the higher standard deviation will have more variability.\n",
    "\n",
    "3.Risk Assessment (in Finance):\n",
    "\n",
    "In finance, standard deviation is used to measure the risk or volatility of an asset or portfolio. A higher standard deviation indicates greater volatility, meaning that asset prices can fluctuate more.\n",
    "\n",
    "4.Data Consistency:\n",
    "\n",
    "It is useful for understanding data consistency. A smaller standard deviation indicates that the data is more predictable and consistent, while a larger standard deviation indicates more variability.\n",
    "\n",
    "5.Normal Distribution:\n",
    "\n",
    "In a normal distribution, the standard deviation plays a key role in determining the spread of the data. About 68% of data points lie within one standard deviation from the mean, 95% within two standard deviations, and 99.7% within three standard deviations (this is known as the 68-95-99.7 rule).\n",
    "\n"
   ]
  },
  {
   "cell_type": "markdown",
   "id": "94af49ed-6caa-4bd9-a945-c1bbbb2e843e",
   "metadata": {},
   "source": [
    "### 16.Define and explain the term range in statistics\n",
    "The range is a simple measure of the spread or dispersion of a dataset. It is calculated by finding the difference between the maximum and minimum values in the dataset.\n",
    "#### Range = Max value - Min value\n",
    "\n",
    "\n"
   ]
  },
  {
   "cell_type": "markdown",
   "id": "79c856e8-723a-4fbf-ae44-cf63d0df82b4",
   "metadata": {},
   "source": [
    "### 17. What is Difference Between Variance and Standard Deviation\n",
    "##### Variance is the average of the squared differences from the mean, and it measures the degree of spread in a dataset. However, it is less intuitive because its unit is the square of the original data's unit.\n",
    "\n",
    "#### Standard deviation is the square root of the variance and provides a more interpretable measure of spread because it is in the same units as the original data."
   ]
  },
  {
   "cell_type": "markdown",
   "id": "9d27ce45-8604-4f23-a049-bfaeddffed43",
   "metadata": {},
   "source": [
    "### 18. What is skewness in a dataset.\n",
    "Skewness measures the asymmetry of data distribution.\n",
    "\n",
    "Positive Skew: Tail on right.\n",
    "\n",
    "Negative Skew: Tail on left.\n",
    "\n"
   ]
  },
  {
   "cell_type": "markdown",
   "id": "5ffe0a2e-25fa-4230-b17b-defa73258528",
   "metadata": {},
   "source": [
    "### 19.What does it mean if a dataset is positively or negatively skewed\u001d",
    "\n",
    "##### Positively Skewed (Right-Skewed):\n",
    "Tail is longer on the right side.\n",
    "\n",
    "Most data values are concentrated on the left.\n",
    "\n",
    "A few larger values pull the mean to the right.\n",
    "\n",
    "Mean > Median > Mode\n",
    "\n",
    "Example:\n",
    "Income distribution — most people earn average wages, but a few earn very high incomes.\n",
    "\n",
    "#####  Negatively Skewed (Left-Skewed):\n",
    "Tail is longer on the left side.\n",
    "\n",
    "Most data values are concentrated on the right.\n",
    "\n",
    "A few smaller values pull the mean to the left.\n",
    "\n",
    "Mean < Median < Mode"
   ]
  },
  {
   "cell_type": "markdown",
   "id": "b56cc766-9183-438b-9fcf-4e8c112ce741",
   "metadata": {},
   "source": [
    "### 20. Define and Explain Kurtosis\n",
    "Kurtosis measures the “tailedness” of the distribution.\n",
    "\n",
    "Leptokurtic: More outliers (sharp peak).\n",
    "\n",
    "Platykurtic: Fewer outliers (flat).\n",
    "\n",
    "Mesokurtic: Normal distribution."
   ]
  },
  {
   "cell_type": "markdown",
   "id": "e525fffa-46e0-41d1-b71a-e631e55061dc",
   "metadata": {},
   "source": [
    "### 21. What is the Purpose of Covariance?\n",
    "Covariance measures the direction of the linear relationship between two variables.\n",
    "\n",
    "Positive covariance: As one variable increases, the other tends to increase.\n",
    "\n",
    "Negative covariance: As one increases, the other tends to decrease."
   ]
  },
  {
   "cell_type": "markdown",
   "id": "184bbd00-e143-40f0-945b-9670c285583b",
   "metadata": {},
   "source": [
    "### 22. What Does Correlation Measure in Statistics?\n",
    "Correlation quantifies the strength and direction of a linear relationship between two variables.\n",
    "\n",
    "Ranges from -1 to +1:\n",
    "\n",
    "+1: Perfect positive relationship\n",
    "\n",
    "0: No linear relationship\n",
    "\n",
    "-1: Perfect negative relationship\n",
    "\n",
    "Popular method: Pearson’s correlation coefficient."
   ]
  },
  {
   "cell_type": "markdown",
   "id": "d862e672-a828-442f-9973-9403ce8d78a5",
   "metadata": {},
   "source": [
    "### 23. Difference Between Covariance and Correlation,gibe difference in sentence\n",
    "##### Covariance indicates the direction of a linear relationship between two variables, but its magnitude is difficult to interpret because it is not standardized.\n",
    "##### Correlation, on the other hand, not only shows the direction but also measures the strength of the relationship on a standardized scale from -1 to +1, making it easier to interpret."
   ]
  },
  {
   "cell_type": "markdown",
   "id": "e2d98d53-b2f1-493f-987e-d44075444ab0",
   "metadata": {},
   "source": [
    "### 24. What are some real-world applications of statistics?\n",
    "##### Healthcare: Clinical trials, disease prediction models\n",
    "\n",
    "##### Business: Market research, customer behavior analysis\n",
    "\n",
    "##### Economics: Forecasting inflation, unemployment rates\n",
    "\n",
    "##### Education: Analyzing student performance data\n",
    "\n",
    "##### Sports: Player performance metrics, game predictions\n",
    "\n",
    "##### Government: Census data, policy impact studies\n",
    "\n",
    "##### Data Science & AI: Model evaluation, pattern recognition"
   ]
  },
  {
   "cell_type": "markdown",
   "id": "32fa5073-6278-4b32-b339-7a9087e8b702",
   "metadata": {},
   "source": [
    "# Practical Questions"
   ]
  },
  {
   "cell_type": "code",
   "execution_count": 1,
   "id": "fd02b7fd-1bbc-4a5e-aefd-443ce53ae029",
   "metadata": {},
   "outputs": [
    {
     "name": "stdout",
     "output_type": "stream",
     "text": [
      "Mean: 14.666666666666666\n",
      "Median: 15\n",
      "Mode: 12\n"
     ]
    }
   ],
   "source": [
    "# 1. Calculate Mean, Median, and Mode\n",
    "\n",
    "import statistics\n",
    "\n",
    "data = [12, 15, 13, 12, 17, 19, 12, 15, 17]\n",
    "\n",
    "mean = statistics.mean(data)\n",
    "median = statistics.median(data)\n",
    "mode = statistics.mode(data)\n",
    "\n",
    "print(\"Mean:\", mean)\n",
    "print(\"Median:\", median)\n",
    "print(\"Mode:\", mode)"
   ]
  },
  {
   "cell_type": "code",
   "execution_count": 3,
   "id": "dbb78624-fd95-464a-b878-4484df164789",
   "metadata": {},
   "outputs": [
    {
     "name": "stdout",
     "output_type": "stream",
     "text": [
      "Variance: 27.428571428571427\n",
      "Standard Deviation: 5.237229365663818\n"
     ]
    }
   ],
   "source": [
    "# 2. Compute Variance and Standard Deviation\n",
    "\n",
    "import statistics\n",
    "\n",
    "data = [10, 12, 23, 23, 16, 23, 21, 16]\n",
    "\n",
    "variance = statistics.variance(data)\n",
    "std_dev = statistics.stdev(data)\n",
    "\n",
    "print(\"Variance:\", variance)\n",
    "print(\"Standard Deviation:\", std_dev)"
   ]
  },
  {
   "cell_type": "code",
   "execution_count": 4,
   "id": "d87c14fd-f475-4a4c-97e6-725749dde184",
   "metadata": {},
   "outputs": [
    {
     "name": "stdout",
     "output_type": "stream",
     "text": [
      "Gender -> ['Male', 'Female', 'Female']\n",
      "Education -> ['High School', 'Bachelors', 'PhD']\n",
      "Temperature -> [98.6, 99.1, 100.2]\n",
      "Weight (kg) -> [60, 72, 90]\n"
     ]
    }
   ],
   "source": [
    "# 3. Create Dataset & Classify Data Types\n",
    "\n",
    "dataset = {\n",
    "    'Gender': ['Male', 'Female', 'Female'],         # Nominal\n",
    "    'Education': ['High School', 'Bachelors', 'PhD'], # Ordinal\n",
    "    'Temperature': [98.6, 99.1, 100.2],             # Interval\n",
    "    'Weight (kg)': [60, 72, 90]                    # Ratio\n",
    "}\n",
    "\n",
    "for key, value in dataset.items():\n",
    "    print(f\"{key} -> {value}\")"
   ]
  },
  {
   "cell_type": "code",
   "execution_count": 5,
   "id": "835a1107-1c1f-41f4-9b4f-a0aa72b0ffbe",
   "metadata": {},
   "outputs": [
    {
     "name": "stdout",
     "output_type": "stream",
     "text": [
      "Random Sample:\n",
      "     ID\n",
      "37  38\n",
      "36  37\n",
      "97  98\n",
      "13  14\n",
      "58  59\n",
      "44  45\n",
      "21  22\n",
      "41  42\n",
      "8    9\n",
      "77  78\n",
      "Stratified Sample:\n",
      "   Gender  Score\n",
      "3      M     78\n",
      "1      F     90\n",
      "5      M     92\n",
      "0      M     87\n",
      "8      F     91\n"
     ]
    }
   ],
   "source": [
    "# 4. Implement sampling techniques like random sampling and stratified sampling5\n",
    "\n",
    "import pandas as pd\n",
    "from sklearn.model_selection import train_test_split\n",
    "\n",
    "# Random Sampling\n",
    "data = pd.DataFrame({'ID': range(1, 101)})\n",
    "random_sample = data.sample(n=10)\n",
    "print(\"Random Sample:\\n\", random_sample)\n",
    "\n",
    "# Stratified Sampling\n",
    "df = pd.DataFrame({\n",
    "    'Gender': ['M', 'F', 'F', 'M', 'F', 'M', 'F', 'M', 'F', 'M'],\n",
    "    'Score': [87, 90, 88, 78, 85, 92, 89, 74, 91, 80]\n",
    "})\n",
    "stratified_sample, _ = train_test_split(df, stratify=df['Gender'], test_size=0.5)\n",
    "print(\"Stratified Sample:\\n\", stratified_sample)"
   ]
  },
  {
   "cell_type": "code",
   "execution_count": 7,
   "id": "5781136f-f93f-4799-a55d-1581356478e7",
   "metadata": {},
   "outputs": [
    {
     "name": "stdout",
     "output_type": "stream",
     "text": [
      "Range: 11\n"
     ]
    }
   ],
   "source": [
    "# 5 Write a Python function to calculate the range of a dataset\n",
    "\n",
    "def calculate_range(data):\n",
    "    return max(data) - min(data)\n",
    "\n",
    "data = [5, 12, 9, 4, 15]\n",
    "print(\"Range:\", calculate_range(data))\n"
   ]
  },
  {
   "cell_type": "code",
   "execution_count": 9,
   "id": "92f50827-8224-4f85-bfa9-d8b7143b9c1e",
   "metadata": {},
   "outputs": [
    {
     "data": {
      "image/png": "[encoded data removed]",
      "text/plain": [
       "<Figure size 640x480 with 1 Axes>"
      ]
     },
     "metadata": {},
     "output_type": "display_data"
    }
   ],
   "source": [
    "#6 Create a dataset and plot its histogram to visualize skewnes\n",
    "import matplotlib.pyplot as plt\n",
    "\n",
    "data = [1, 2, 2, 3, 3, 3, 4, 4, 5, 10, 15, 20]\n",
    "plt.hist(data, bins=8, edgecolor='black')\n",
    "plt.title(\"Histogram to Visualize Skewness\")\n",
    "plt.xlabel(\"Values\")\n",
    "plt.ylabel(\"Frequency\")\n",
    "plt.show()\n"
   ]
  },
  {
   "cell_type": "code",
   "execution_count": 10,
   "id": "aa29bfe4-bc0e-4a4d-864c-37e1de2b76fb",
   "metadata": {},
   "outputs": [
    {
     "name": "stdout",
     "output_type": "stream",
     "text": [
      "Skewness: 0.049461249847449096\n",
      "Kurtosis: -1.3689637013700906\n"
     ]
    }
   ],
   "source": [
    "# 8 Calculate skewness and kurtosis of a dataset using Python libraries5\n",
    "\n",
    "import numpy as np\n",
    "from scipy.stats import skew, kurtosis\n",
    "\n",
    "# Example dataset\n",
    "data = [12, 15, 12, 14, 16, 19, 20, 21, 22, 24]\n",
    "\n",
    "# Calculate skewness\n",
    "skewness = skew(data)\n",
    "\n",
    "# Calculate kurtosis (Fisher's definition: 0 for normal distribution)\n",
    "kurt = kurtosis(data)\n",
    "\n",
    "print(f\"Skewness: {skewness}\")\n",
    "print(f\"Kurtosis: {kurt}\")\n"
   ]
  },
  {
   "cell_type": "code",
   "execution_count": 12,
   "id": "6727d46c-f9a2-4e2c-9cc8-e1ece8d1c022",
   "metadata": {},
   "outputs": [
    {
     "data": {
      "image/png": "[encoded data removed]",
      "text/plain": [
       "<Figure size 640x480 with 1 Axes>"
      ]
     },
     "metadata": {},
     "output_type": "display_data"
    },
    {
     "data": {
      "image/png": "[encoded data removed]",
      "text/plain": [
       "<Figure size 640x480 with 1 Axes>"
      ]
     },
     "metadata": {},
     "output_type": "display_data"
    }
   ],
   "source": [
    "# 8 Generate a dataset and demonstrate positive and negative skewness5\n",
    "\n",
    "import numpy as np\n",
    "import seaborn as sns\n",
    "\n",
    "# Positive skew\n",
    "data_pos = np.random.exponential(scale=2, size=1000)\n",
    "\n",
    "# Negative skew\n",
    "data_neg = -1 * np.random.exponential(scale=2, size=1000)\n",
    "\n",
    "sns.histplot(data_pos, kde=True).set(title='Positive Skew')\n",
    "plt.show()\n",
    "\n",
    "sns.histplot(data_neg, kde=True).set(title='Negative Skew')\n",
    "plt.show()"
   ]
  },
  {
   "cell_type": "code",
   "execution_count": 13,
   "id": "f77e07bb-23b7-4eb3-ae51-169e91d50240",
   "metadata": {},
   "outputs": [
    {
     "name": "stdout",
     "output_type": "stream",
     "text": [
      "Covariance: 6.666666666666666\n"
     ]
    }
   ],
   "source": [
    "# 9 Write a Python script to calculate covariance between two datasets5\n",
    "\n",
    "import numpy as np\n",
    "\n",
    "x = [2, 4, 6, 8]\n",
    "y = [1, 3, 5, 7]\n",
    "\n",
    "cov_matrix = np.cov(x, y)\n",
    "print(\"Covariance:\", cov_matrix[0, 1])"
   ]
  },
  {
   "cell_type": "code",
   "execution_count": 16,
   "id": "56fbd393-7c43-4088-a7b6-a31ceb9a7d40",
   "metadata": {},
   "outputs": [
    {
     "name": "stdout",
     "output_type": "stream",
     "text": [
      "Correlation Coefficient: 1.0\n"
     ]
    }
   ],
   "source": [
    "# 10 Write a Python script to calculate the correlation coefficient between two datasets5\n",
    "\n",
    "x = [2, 4, 6, 8]\n",
    "y = [1, 3, 5, 7]\n",
    "\n",
    "correlation = np.corrcoef(x, y)\n",
    "print(\"Correlation Coefficient:\", correlation[0, 1])\n"
   ]
  },
  {
   "cell_type": "code",
   "execution_count": 18,
   "id": "530a8980-d377-4a7e-b065-c85a9caa5550",
   "metadata": {},
   "outputs": [
    {
     "data": {
      "image/png": "[encoded data removed]",
      "text/plain": [
       "<Figure size 640x480 with 1 Axes>"
      ]
     },
     "metadata": {},
     "output_type": "display_data"
    }
   ],
   "source": [
    "#11 Create a scatter plot to visualize the relationship between two variables5\n",
    "\n",
    "import matplotlib.pyplot as plt\n",
    "\n",
    "x = [2, 4, 6, 8]\n",
    "y = [1, 3, 5, 7]\n",
    "\n",
    "plt.scatter(x, y)\n",
    "plt.title(\"Scatter Plot\")\n",
    "plt.xlabel(\"X values\")\n",
    "plt.ylabel(\"Y values\")\n",
    "plt.grid(True)\n",
    "plt.show()"
   ]
  },
  {
   "cell_type": "code",
   "execution_count": 19,
   "id": "2510bd2e-7606-4f11-9ac7-220241a0ad43",
   "metadata": {},
   "outputs": [
    {
     "name": "stdout",
     "output_type": "stream",
     "text": [
      "Simple Random Sample:\n",
      "     ID\n",
      "0    1\n",
      "2    3\n",
      "75  76\n",
      "61  62\n",
      "6    7\n",
      "78  79\n",
      "64  65\n",
      "27  28\n",
      "70  71\n",
      "57  58\n",
      "Systematic Sample:\n",
      "     ID\n",
      "0    1\n",
      "10  11\n",
      "20  21\n",
      "30  31\n",
      "40  41\n",
      "50  51\n",
      "60  61\n",
      "70  71\n",
      "80  81\n",
      "90  91\n"
     ]
    }
   ],
   "source": [
    "# 12 Implement and compare simple random sampling and systematic sampling5\n",
    "\n",
    "\n",
    "import numpy as np\n",
    "import pandas as pd\n",
    "\n",
    "data = pd.DataFrame({'ID': range(1, 101)})\n",
    "\n",
    "# Simple Random Sampling\n",
    "random_sample = data.sample(n=10)\n",
    "print(\"Simple Random Sample:\\n\", random_sample)\n",
    "\n",
    "# Systematic Sampling\n",
    "step = 10\n",
    "systematic_sample = data.iloc[::step]\n",
    "print(\"Systematic Sample:\\n\", systematic_sample)"
   ]
  },
  {
   "cell_type": "code",
   "execution_count": 21,
   "id": "4f495133-dbf1-4d96-92c2-347d04a0fed7",
   "metadata": {},
   "outputs": [
    {
     "name": "stdout",
     "output_type": "stream",
     "text": [
      "Grouped Mean: 27.77777777777778\n"
     ]
    }
   ],
   "source": [
    "# 13.Calculate the mean, median, and mode of grouped data\n",
    "import pandas as pd\n",
    "from scipy import stats\n",
    "\n",
    "# Example: Midpoints and frequencies\n",
    "df = pd.DataFrame({\n",
    "    'Midpoint': [10, 20, 30, 40, 50],\n",
    "    'Frequency': [2, 5, 7, 3, 1]\n",
    "})\n",
    "\n",
    "mean = (df['Midpoint'] * df['Frequency']).sum() / df['Frequency'].sum()\n",
    "print(\"Grouped Mean:\", mean)\n",
    "# Median and Mode need cumulative data or class intervals for exact calc"
   ]
  },
  {
   "cell_type": "code",
   "execution_count": 23,
   "id": "95310488-9348-4174-b7cc-187f27a2db14",
   "metadata": {},
   "outputs": [
    {
     "name": "stdout",
     "output_type": "stream",
     "text": [
      "Mean: 49.519253436643886\n",
      "Median: 48.79805349219173\n",
      "Mode: 42.0\n",
      "Variance: 109.45241314164865\n",
      "Standard Deviation: 10.46195073309221\n",
      "Range: 50.98716736278499\n"
     ]
    }
   ],
   "source": [
    "# 14. Simulate data using Python and calculate its central tendency and dispersion.\n",
    "import numpy as np\n",
    "import statistics\n",
    "\n",
    "data = np.random.normal(loc=50, scale=10, size=100)\n",
    "\n",
    "print(\"Mean:\", statistics.mean(data))\n",
    "print(\"Median:\", statistics.median(data))\n",
    "print(\"Mode:\", statistics.mode(data.round()))  # Rounded for mode\n",
    "print(\"Variance:\", statistics.variance(data))\n",
    "print(\"Standard Deviation:\", statistics.stdev(data))\n",
    "print(\"Range:\", max(data) - min(data))"
   ]
  },
  {
   "cell_type": "code",
   "execution_count": null,
   "id": "10dac82c-8c53-4b9b-8415-afec4945f7ad",
   "metadata": {},
   "outputs": [],
   "source": [
    "import numpy as np\n",
    "import pandas as pd\n",
    "import seaborn as sns\n",
    "import matplotlib.pyplot as plt\n",
    "from scipy.stats import zscore, skew, kurtosis, pearsonr, spearmanr\n",
    "\n",
    "# 1. Generate a sample dataset\n",
    "np.random.seed(0)\n",
    "data1 = np.random.normal(50, 10, 100)\n",
    "data2 = np.random.normal(60, 15, 100)\n",
    "\n",
    "df = pd.DataFrame({'Data1': data1, 'Data2': data2})\n",
    "\n",
    "# 2. Descriptive statistics\n",
    "desc_stats = df.describe()\n",
    "print(\"Descriptive Statistics:\\n\", desc_stats)\n",
    "\n",
    "# 3. Interquartile Range (IQR)\n",
    "iqr_data1 = df['Data1'].quantile(0.75) - df['Data1'].quantile(0.25)\n",
    "iqr_data2 = df['Data2'].quantile(0.75) - df['Data2'].quantile(0.25)\n",
    "print(\"\\nIQR of Data1:\", iqr_data1)\n",
    "print(\"IQR of Data2:\", iqr_data2)\n",
    "\n",
    "# 4. Z-score normalization\n",
    "df_zscore = df.apply(zscore)\n",
    "\n",
    "# 5. Standard deviation comparison\n",
    "std_data1 = df['Data1'].std()\n",
    "std_data2 = df['Data2'].std()\n",
    "print(\"\\nStandard Deviation of Data1:\", std_data1)\n",
    "print(\"Standard Deviation of Data2:\", std_data2)\n",
    "\n",
    "# 6. Covariance matrix\n",
    "cov_matrix = df.cov()\n",
    "print(\"\\nCovariance Matrix:\\n\", cov_matrix)\n",
    "\n",
    "# 7. Correlation matrix\n",
    "corr_matrix = df.corr()\n",
    "print(\"\\nCorrelation Matrix:\\n\", corr_matrix)\n",
    "\n",
    "# 8. Variance\n",
    "var_data1 = df['Data1'].var()\n",
    "var_data2 = df['Data2'].var()\n",
    "print(\"\\nVariance of Data1:\", var_data1)\n",
    "print(\"Variance of Data2:\", var_data2)\n",
    "\n",
    "# 9. Skewness and Kurtosis\n",
    "skew_data1 = skew(df['Data1'])\n",
    "skew_data2 = skew(df['Data2'])\n",
    "kurt_data1 = kurtosis(df['Data1'])\n",
    "kurt_data2 = kurtosis(df['Data2'])\n",
    "\n",
    "print(\"\\nSkewness of Data1:\", skew_data1)\n",
    "print(\"Skewness of Data2:\", skew_data2)\n",
    "print(\"Kurtosis of Data1:\", kurt_data1)\n",
    "print(\"Kurtosis of Data2:\", kurt_data2)\n",
    "\n",
    "# 10. Pearson and Spearman correlation coefficients\n",
    "pearson_corr, _ = pearsonr(df['Data1'], df['Data2'])\n",
    "spearman_corr, _ = spearmanr(df['Data1'], df['Data2'])\n",
    "\n",
    "print(\"\\nPearson Correlation:\", pearson_corr)\n",
    "print(\"Spearman Correlation:\", spearman_corr)\n"
   ]
  },
  {
   "cell_type": "code",
   "execution_count": 24,
   "id": "53999fb0-f4e8-41af-9f77-b882b92a5dbc",
   "metadata": {},
   "outputs": [
    {
     "name": "stdout",
     "output_type": "stream",
     "text": [
      "NumPy Descriptive Statistics:\n",
      "Mean: 17.5\n",
      "Median: 17.5\n",
      "Standard Deviation: 4.05585995813465\n",
      "Variance: 16.45\n",
      "Min: 12\n",
      "Max: 24\n",
      "25th, 50th, 75th Percentiles: [14.25 17.5  20.75]\n"
     ]
    }
   ],
   "source": [
    "# 15 Use NumPy or pandas to summarize a dataset’s descriptive statistics\n",
    "\n",
    "\n",
    "import numpy as np\n",
    "\n",
    "# Sample dataset\n",
    "data = np.array([12, 15, 12, 14, 16, 19, 20, 21, 22, 24])\n",
    "\n",
    "# Descriptive statistics\n",
    "mean = np.mean(data)\n",
    "median = np.median(data)\n",
    "std_dev = np.std(data)\n",
    "variance = np.var(data)\n",
    "minimum = np.min(data)\n",
    "maximum = np.max(data)\n",
    "quantiles = np.percentile(data, [25, 50, 75])\n",
    "\n",
    "print(\"NumPy Descriptive Statistics:\")\n",
    "print(f\"Mean: {mean}\")\n",
    "print(f\"Median: {median}\")\n",
    "print(f\"Standard Deviation: {std_dev}\")\n",
    "print(f\"Variance: {variance}\")\n",
    "print(f\"Min: {minimum}\")\n",
    "print(f\"Max: {maximum}\")\n",
    "print(f\"25th, 50th, 75th Percentiles: {quantiles}\")\n"
   ]
  },
  {
   "cell_type": "code",
   "execution_count": 25,
   "id": "2668618b-c5c8-4eb4-806a-9375346473f4",
   "metadata": {},
   "outputs": [
    {
     "data": {
      "image/png": "[encoded data removed]",
      "text/plain": [
       "<Figure size 640x480 with 1 Axes>"
      ]
     },
     "metadata": {},
     "output_type": "display_data"
    }
   ],
   "source": [
    "#16. Plot a boxplot to understand the spread and identify outliers>\n",
    "import seaborn as sns\n",
    "import matplotlib.pyplot as plt\n",
    "\n",
    "# Sample dataset\n",
    "data = [12, 15, 12, 14, 16, 19, 20, 21, 22, 24, 45]\n",
    "\n",
    "# Create boxplot\n",
    "sns.boxplot(data=data)\n",
    "plt.title('Boxplot of Data')\n",
    "plt.xlabel('Values')\n",
    "plt.show()\n"
   ]
  },
  {
   "cell_type": "code",
   "execution_count": 26,
   "id": "f1cc0c27-ba67-41bf-bd22-71a586588b5d",
   "metadata": {},
   "outputs": [
    {
     "name": "stdout",
     "output_type": "stream",
     "text": [
      "Q1: 14.5\n",
      "Q3: 21.5\n",
      "IQR: 7.0\n"
     ]
    }
   ],
   "source": [
    "#17. Calculate the interquartile range (IQR) of a dataset>\n",
    "import numpy as np\n",
    "\n",
    "# Sample dataset\n",
    "data = np.array([12, 15, 12, 14, 16, 19, 20, 21, 22, 24, 45])\n",
    "\n",
    "# Calculate Q1 (25th percentile) and Q3 (75th percentile)\n",
    "Q1 = np.percentile(data, 25)\n",
    "Q3 = np.percentile(data, 75)\n",
    "\n",
    "# Calculate IQR\n",
    "IQR = Q3 - Q1\n",
    "\n",
    "print(f\"Q1: {Q1}\")\n",
    "print(f\"Q3: {Q3}\")\n",
    "print(f\"IQR: {IQR}\")\n"
   ]
  },
  {
   "cell_type": "code",
   "execution_count": 27,
   "id": "26d6b9e6-6f14-4f88-ae9c-d353ae43ae67",
   "metadata": {},
   "outputs": [
    {
     "name": "stdout",
     "output_type": "stream",
     "text": [
      "Original Data: [12 15 12 14 16 19 20 21 22 24]\n",
      "Z-score Normalized Data: [-1.3560626  -0.61639209 -1.3560626  -0.86294893 -0.36983525  0.36983525\n",
      "  0.61639209  0.86294893  1.10950576  1.60261944]\n"
     ]
    }
   ],
   "source": [
    "#18. Implement Z-score normalization and explain its significance\n",
    "import numpy as np\n",
    "\n",
    "# Example data\n",
    "data = np.array([12, 15, 12, 14, 16, 19, 20, 21, 22, 24])\n",
    "\n",
    "# Calculate mean and std deviation\n",
    "mean = np.mean(data)\n",
    "std = np.std(data)\n",
    "\n",
    "# Z-score normalization\n",
    "z_scores = (data - mean) / std\n",
    "\n",
    "print(\"Original Data:\", data)\n",
    "print(\"Z-score Normalized Data:\", z_scores)\n"
   ]
  },
  {
   "cell_type": "code",
   "execution_count": 28,
   "id": "e32a1140-eb04-48eb-b814-41601379bd7e",
   "metadata": {},
   "outputs": [
    {
     "name": "stdout",
     "output_type": "stream",
     "text": [
      "Standard Deviation of Dataset A: 4.06\n",
      "Standard Deviation of Dataset B: 10.29\n",
      "Dataset B has more variability.\n"
     ]
    }
   ],
   "source": [
    "# 19 Compare two datasets using their standard deviations\n",
    "import numpy as np\n",
    "\n",
    "# Dataset A and Dataset B\n",
    "data_a = [12, 15, 12, 14, 16, 19, 20, 21, 22, 24]\n",
    "data_b = [30, 32, 28, 35, 40, 42, 45, 50, 55, 60]\n",
    "\n",
    "# Calculate standard deviations\n",
    "std_a = np.std(data_a)\n",
    "std_b = np.std(data_b)\n",
    "\n",
    "# Display results\n",
    "print(f\"Standard Deviation of Dataset A: {std_a:.2f}\")\n",
    "print(f\"Standard Deviation of Dataset B: {std_b:.2f}\")\n",
    "\n",
    "# Comparison\n",
    "if std_a > std_b:\n",
    "    print(\"Dataset A has more variability.\")\n",
    "elif std_b > std_a:\n",
    "    print(\"Dataset B has more variability.\")\n",
    "else:\n",
    "    print(\"Both datasets have equal variability.\")\n"
   ]
  },
  {
   "cell_type": "code",
   "execution_count": 29,
   "id": "23e57a13-452d-4e1a-a213-523b957d0f55",
   "metadata": {},
   "outputs": [
    {
     "name": "stdout",
     "output_type": "stream",
     "text": [
      "Covariance Matrix:\n",
      "             Math  Physics  Chemistry\n",
      "Math       52.20    42.10      29.45\n",
      "Physics    42.10    41.30      23.85\n",
      "Chemistry  29.45    23.85      17.20\n"
     ]
    },
    {
     "data": {
      "image/png": "[encoded data removed]",
      "text/plain": [
       "<Figure size 800x600 with 2 Axes>"
      ]
     },
     "metadata": {},
     "output_type": "display_data"
    }
   ],
   "source": [
    "#20 Write a Python program to visualize covariance using a heatmap.\n",
    "import pandas as pd\n",
    "import numpy as np\n",
    "import seaborn as sns\n",
    "import matplotlib.pyplot as plt\n",
    "\n",
    "# Sample data for 3 variables\n",
    "data = {\n",
    "    'Math': [88, 92, 80, 89, 100],\n",
    "    'Physics': [84, 85, 78, 90, 95],\n",
    "    'Chemistry': [86, 90, 82, 88, 93]\n",
    "}\n",
    "\n",
    "# Create DataFrame\n",
    "df = pd.DataFrame(data)\n",
    "\n",
    "# Calculate covariance matrix\n",
    "cov_matrix = df.cov()\n",
    "\n",
    "# Print covariance matrix\n",
    "print(\"Covariance Matrix:\\n\", cov_matrix)\n",
    "\n",
    "# Plot heatmap\n",
    "plt.figure(figsize=(8, 6))\n",
    "sns.heatmap(cov_matrix, annot=True, cmap='coolwarm', linewidths=0.5)\n",
    "plt.title('Covariance Matrix Heatmap')\n",
    "plt.show()\n"
   ]
  },
  {
   "cell_type": "code",
   "execution_count": 30,
   "id": "d1fe633d-c2b3-4ec9-b58d-586a166f862b",
   "metadata": {},
   "outputs": [
    {
     "name": "stdout",
     "output_type": "stream",
     "text": [
      "Correlation Matrix:\n",
      "                Math   Physics  Chemistry\n",
      "Math       1.000000  0.906717   0.982847\n",
      "Physics    0.906717  1.000000   0.894848\n",
      "Chemistry  0.982847  0.894848   1.000000\n"
     ]
    },
    {
     "data": {
      "image/png": "[encoded data removed]",
      "text/plain": [
       "<Figure size 800x600 with 2 Axes>"
      ]
     },
     "metadata": {},
     "output_type": "display_data"
    }
   ],
   "source": [
    "#21 .Use seaborn to create a correlation matrix for a dataset>\n",
    "import pandas as pd\n",
    "import seaborn as sns\n",
    "import matplotlib.pyplot as plt\n",
    "\n",
    "# Sample dataset\n",
    "data = {\n",
    "    'Math': [88, 92, 80, 89, 100],\n",
    "    'Physics': [84, 85, 78, 90, 95],\n",
    "    'Chemistry': [86, 90, 82, 88, 93]\n",
    "}\n",
    "\n",
    "# Create a DataFrame\n",
    "df = pd.DataFrame(data)\n",
    "\n",
    "# Calculate correlation matrix\n",
    "correlation_matrix = df.corr()\n",
    "\n",
    "# Print correlation matrix\n",
    "print(\"Correlation Matrix:\\n\", correlation_matrix)\n",
    "\n",
    "# Plot heatmap\n",
    "plt.figure(figsize=(8, 6))\n",
    "sns.heatmap(correlation_matrix, annot=True, cmap='coolwarm', linewidths=0.5)\n",
    "plt.title('Correlation Matrix Heatmap')\n",
    "plt.show()\n"
   ]
  },
  {
   "cell_type": "code",
   "execution_count": 31,
   "id": "e02faa0b-388b-4ab8-b8ae-e39488bc2266",
   "metadata": {},
   "outputs": [
    {
     "name": "stdout",
     "output_type": "stream",
     "text": [
      "Dataset: [54 57 74 77 77 19 93 31 46 97 80 98 98 22 68 75 49 97 56 98]\n",
      "\n",
      "Variance (NumPy): 629.41\n",
      "\n",
      "Standard Deviation (NumPy): 25.09\n"
     ]
    }
   ],
   "source": [
    "#22. Generate a dataset and implement both variance and standard deviation computations\n",
    "\n",
    "import numpy as np\n",
    "import pandas as pd\n",
    "\n",
    "# Step 1: Generate a synthetic dataset\n",
    "np.random.seed(0)  # for reproducibility\n",
    "data = np.random.randint(10, 100, size=20)  # 20 random integers between 10 and 99\n",
    "\n",
    "# Convert to pandas Series for easy analysis\n",
    "series = pd.Series(data)\n",
    "\n",
    "# Step 2: Compute Variance\n",
    "variance_np = np.var(data)              \n",
    "\n",
    "# Step 3: Compute Standard Deviation\n",
    "std_dev_np = np.std(data)                \n",
    "\n",
    "# Step 4: Print results\n",
    "print(\"Dataset:\", data)\n",
    "print(f\"\\nVariance (NumPy): {variance_np:.2f}\")\n",
    "print(f\"\\nStandard Deviation (NumPy): {std_dev_np:.2f}\")\n",
    "\n"
   ]
  },
  {
   "cell_type": "code",
   "execution_count": 32,
   "id": "9066a622-8ae6-4789-ab77-754fb27738bc",
   "metadata": {},
   "outputs": [
    {
     "name": "stdout",
     "output_type": "stream",
     "text": [
      "Skewness: 1.87\n",
      "Kurtosis (Excess): 5.22\n"
     ]
    },
    {
     "data": {
      "image/png": "[encoded data removed]",
      "text/plain": [
       "<Figure size 1000x600 with 1 Axes>"
      ]
     },
     "metadata": {},
     "output_type": "display_data"
    }
   ],
   "source": [
    "#23 .Visualize skewness and kurtosis using Python libraries like matplotlib or seaborn\n",
    "import numpy as np\n",
    "import pandas as pd\n",
    "import matplotlib.pyplot as plt\n",
    "import seaborn as sns\n",
    "from scipy.stats import skew, kurtosis\n",
    "\n",
    "# Step 1: Generate a dataset (positively skewed)\n",
    "np.random.seed(42)\n",
    "data = np.random.exponential(scale=2.0, size=1000)\n",
    "\n",
    "# Step 2: Calculate skewness and kurtosis\n",
    "data_skewness = skew(data)\n",
    "data_kurtosis = kurtosis(data)  # excess kurtosis\n",
    "\n",
    "print(f\"Skewness: {data_skewness:.2f}\")\n",
    "print(f\"Kurtosis (Excess): {data_kurtosis:.2f}\")\n",
    "\n",
    "# Step 3: Visualization\n",
    "plt.figure(figsize=(10, 6))\n",
    "sns.histplot(data, kde=True, bins=30, color='skyblue')\n",
    "plt.axvline(np.mean(data), color='red', linestyle='--', label='Mean')\n",
    "\n",
    "# Display skewness and kurtosis on the plot\n",
    "plt.title(\"Histogram with Skewness and Kurtosis\")\n",
    "plt.xlabel(\"Value\")\n",
    "plt.ylabel(\"Frequency\")\n",
    "plt.text(x=np.max(data)*0.6, y=100,\n",
    "         s=f\"Skewness: {data_skewness:.2f}\\nKurtosis: {data_kurtosis:.2f}\",\n",
    "         bbox=dict(facecolor='white', alpha=0.5))\n",
    "plt.legend()\n",
    "plt.grid(True)\n",
    "plt.show()\n"
   ]
  },
  {
   "cell_type": "code",
   "execution_count": 33,
   "id": "05edea73-d610-4184-bab6-c68c0daa99ef",
   "metadata": {},
   "outputs": [
    {
     "name": "stdout",
     "output_type": "stream",
     "text": [
      "Pearson Correlation Coefficient: 0.993\n",
      "Spearman Correlation Coefficient: 1.0\n"
     ]
    }
   ],
   "source": [
    "#24 Implement the Pearson and Spearman correlation coefficients for a dataset.\n",
    "import pandas as pd\n",
    "import numpy as np\n",
    "from scipy.stats import pearsonr, spearmanr\n",
    "\n",
    "# Sample dataset\n",
    "data = {\n",
    "    'Hours_Studied': [1, 2, 3, 4, 5, 6, 7, 8],\n",
    "    'Exam_Score':    [50, 55, 65, 70, 75, 78, 85, 90]\n",
    "}\n",
    "\n",
    "# Convert to DataFrame\n",
    "df = pd.DataFrame(data)\n",
    "\n",
    "# Pearson Correlation Coefficient\n",
    "pearson_corr, _ = pearsonr(df['Hours_Studied'], df['Exam_Score'])\n",
    "\n",
    "# Spearman Correlation Coefficient\n",
    "spearman_corr, _ = spearmanr(df['Hours_Studied'], df['Exam_Score'])\n",
    "\n",
    "# Display results\n",
    "print(\"Pearson Correlation Coefficient:\", round(pearson_corr, 3))\n",
    "print(\"Spearman Correlation Coefficient:\", round(spearman_corr, 3))\n"
   ]
  }
 ],
 "metadata": {
  "kernelspec": {
   "display_name": "Python 3 (ipykernel)",
   "language": "python",
   "name": "python3"
  },
  "language_info": {
   "codemirror_mode": {
    "name": "ipython",
    "version": 3
   },
   "file_extension": ".py",
   "mimetype": "text/x-python",
   "name": "python",
   "nbconvert_exporter": "python",
   "pygments_lexer": "ipython3",
   "version": "3.12.6"
  }
 },
 "nbformat": 4,
 "nbformat_minor": 5
}
